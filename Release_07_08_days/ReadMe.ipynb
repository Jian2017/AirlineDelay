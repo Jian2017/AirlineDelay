{
 "cells": [
  {
   "cell_type": "markdown",
   "metadata": {},
   "source": [
    "Data sets format: \n",
    "files:\n",
    "* TotalFlights.csv\n",
    "* DelayFlights.csv\n",
    "* DelayRatio.csv\n",
    "* airport2idx.csv\n",
    "* time_stamp2idx.csv\n",
    "* test.csv\n",
    "* readme.ipynb\n",
    "\n",
    "this.ipynb provide helper function to generate the following data:\n",
    "\n",
    "* `TotalFlights`: pd.DataFrame with value  of shape (A,N)\n",
    "\n",
    "`TotalFlights[i,t]` is number of flights between [`idx2time_stamp[t]`,`idx2time_stamp[t] + dt`) at airport `idx2airport[i]`\n",
    "\n",
    "* `DelayFlights`: pd.DataFrame with value of shape (A,N)\n",
    "\n",
    "`DelayFlights[i,t]` is number of delayed flights between [`idx2time_stamp[t]`,`idx2time_stamp[t] + dt`) at airport `idx2airport[i]`\n",
    "\n",
    "* `DelayRatio`:  pd.DataFrame with value of shape (A,N)\n",
    "\n",
    "`DelayRatio[i,t] = DelayFlights[i,t] / TotalFlights[i,t]`\n",
    "\n",
    "\n",
    "* `idx2airport`: dict \n",
    "\n",
    "`idx2airport[i]` return  the iata name for airport index ` i `\n",
    "\n",
    "* `airport2idx`: dict\n",
    "\n",
    "inverse to `idx2airport`\n",
    "\n",
    "* `idx2time_stamp`: dict\n",
    "\n",
    "`idx2time_stamp[t]` return  the timestamp for time index ` t `\n",
    "\n",
    "* `time_stamp2idx`: dict\n",
    "\n",
    "inverse to `idx2time_stamp[t]`\n",
    "\n",
    "* `dt`:pd.TimeDelta \n",
    "\n",
    "`1D` or `1H` so far\n",
    "\n",
    "* `test_index` :list of lenth M\n",
    "element is time index at which model predicts the delay ratio. In our case, all elements `tidx in test_index`' satisfy `idx2time_stamp[tidx]` after `2018-01-01 00:00:00`\n",
    "\n",
    "`readme.ipynb` also provide a model evaluation function `model_mse(pred_data)`. \n",
    "\n",
    "* 1. run next block to generate data\n",
    "* 2. tune your model, generate a np.ndarrays obeject `pred_data` of shape  `(A,M)`\n",
    "`pred_data[:,j]` gives the predicted delay ratio for time index `test_index[j]`\n",
    "* 3. report `model_mse(pred_data)`, save `pred_data`"
   ]
  },
  {
   "cell_type": "code",
   "execution_count": null,
   "metadata": {},
   "outputs": [],
   "source": []
  },
  {
   "cell_type": "markdown",
   "metadata": {},
   "source": [
    "In **this** notebook, `dt` is 1 day. datasets contain `pd.date_range('2007-01-01 00:00:00','2008-12-30 00:00:00',freq='d')` as time stamp. \n",
    "When using model to pridiction. one **CAN NOT** use the data at or after `idx2time_stamp[t]` to"
   ]
  },
  {
   "cell_type": "code",
   "execution_count": 35,
   "metadata": {},
   "outputs": [],
   "source": [
    "import pandas as pd\n",
    "import numpy as np\n",
    "from datetime import datetime,timedelta\n",
    "def fun25_import_datasets():\n",
    "    idx2airport=pd.read_csv(\"idx2airport.csv\",index_col=0)['0'].to_dict()\n",
    "    airport2idx=pd.read_csv(\"airport2idx.csv\",index_col=0)['0'].to_dict()\n",
    "    idx2time_stamp=pd.read_csv(\"idx2time_stamp.csv\",index_col=0)['0'].to_dict()\n",
    "    time_stamp2idx=pd.read_csv(\"time_stamp2idx.csv\",index_col=0)['0'].to_dict()\n",
    "    TotalFlights=pd.read_csv(\"TotalFlights.csv\",index_col=0)\n",
    "    DelayFlights=pd.read_csv(\"DelayFlights.csv\",index_col=0)\n",
    "    DelayRatio=pd.read_csv(\"DelayRatio.csv\",index_col=0)\n",
    "    test_index=list(pd.read_csv(\"test.csv\",index_col=0,header=None).values.T[0,:])\n",
    "    dt=timedelta(seconds=3600) #1H\n",
    "    \n",
    "    return idx2airport,airport2idx,idx2time_stamp,time_stamp2idx,TotalFlights,DelayFlights,DelayRatio,test_index,dt\n",
    "\n",
    "def model_mse(pred_data,test_data=None):\n",
    "    test_index=list(pd.read_csv(\"test.csv\",index_col=0,header=None).values.T[0,:])\n",
    "    DelayRatio=pd.read_csv(\"DelayRatio.csv\",index_col=0)\n",
    "    return np.mean(np.mean(np.square(DelayRatio[:,test_index]-pred_data),axis=0))"
   ]
  },
  {
   "cell_type": "code",
   "execution_count": 33,
   "metadata": {},
   "outputs": [],
   "source": [
    "#Demo 1\n",
    "idx2airport,airport2idx,idx2time_stamp,time_stamp2idx,TotalFlights,DelayFlights,DelayRatio,test_index,dt=fun25_import_datasets()"
   ]
  }
 ],
 "metadata": {
  "kernelspec": {
   "display_name": "Python 3",
   "language": "python",
   "name": "python3"
  },
  "language_info": {
   "codemirror_mode": {
    "name": "ipython",
    "version": 3
   },
   "file_extension": ".py",
   "mimetype": "text/x-python",
   "name": "python",
   "nbconvert_exporter": "python",
   "pygments_lexer": "ipython3",
   "version": "3.6.5"
  }
 },
 "nbformat": 4,
 "nbformat_minor": 2
}
