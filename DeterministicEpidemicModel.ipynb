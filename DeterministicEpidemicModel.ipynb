{
 "cells": [
  {
   "cell_type": "markdown",
   "metadata": {},
   "source": [
    "### Given p[i,t] and b[i,j],  Estimate delta[i]\n",
    "#### input:\n",
    "p[i,t] is ndarray,\n",
    "the delay ratio of airport i at time t;\n",
    "\n",
    "b[i,j] is the normalize the infection rate from j to i,\n",
    "sum(b[i,:]) = 1\n",
    "#### output\n",
    "ndarray delta[i]"
   ]
  },
  {
   "cell_type": "code",
   "execution_count": 1,
   "metadata": {},
   "outputs": [],
   "source": [
    "def estimate_delta_v1( p , b ):\n",
    "    # 2019-7-12  Jian Wang\n",
    "\n",
    "    # p[i,t]   \n",
    "    # b[i,j]\n",
    "    \n",
    "    n = len( p )  # numbers of airport\n",
    "    m = len( p[0] ) # numbers of time\n",
    "    \n",
    "    if ( len(b)!= n ) or ( len(b[0])!= n ):\n",
    "        print(\"ERROR, airport number not consistent\")\n",
    "        return None\n",
    "    \n",
    "    k = np.ndarray( shape=(n,m) )\n",
    "    \n",
    "    for i in range(n):\n",
    "        for t in range(m):\n",
    "            k[i,t] = sum( p[j,t] * (1-p[i,t]) * b[i,j] for j in range(n) )\n",
    "            \n",
    "    # p[i,t+1] - p[i,t] = - delta[i] * p[i,t] + k[i,t]\n",
    "    # t = 0,1,2,...,(m-2)\n",
    "    out = []\n",
    "    for i in range(n):\n",
    "        Yi = np.asarray( [ p[i,t] + k[i,t] - p[i,t+1] for t in range(m-1) ])\n",
    "        Xi = np.asarray( [ p[i,t] for t in range(m-1) ])\n",
    "        delta , c = np.linalg.lstsq(np.vstack([Xi, np.ones(len(Xi))]).T, Yi)[0]\n",
    "        out.append( delta )\n",
    "    return np.asarray(out)"
   ]
  },
  {
   "cell_type": "markdown",
   "metadata": {},
   "source": [
    "### Given p[i,t], Estimate delta[i] and b[i,j]\n",
    "#### input:\n",
    "p[i,t] is ndarray,\n",
    "the delay ratio of airport i at time t;\n",
    "\n",
    "#### output\n",
    "ndarray delta[i]  \n",
    "b[i,j] is the normalize the infection rate from j to i,  \n",
    "sum(b[i,:]) = 1"
   ]
  },
  {
   "cell_type": "markdown",
   "metadata": {},
   "source": [
    "### Loss function - Mean square error\n",
    "\n",
    "#### input:\n",
    "p[i,t] is ndarray,\n",
    "the delay ratio of airport i at time t;\n",
    "\n",
    "b[i,j] is the normalize the infection rate from j to i,\n",
    "sum(b[i,:]) = 1\n",
    "\n",
    "delta[i] ndarray \n",
    "#### how is $\\hat{p}[i,t] $ caculated?\n",
    "\n",
    "Assume $\\Delta t = 1 \\text{day} $ in such expansion:\n",
    "\n",
    "$$ \\frac{p[i,t+\\Delta t] - p[i,t] }{ \\Delta t } =   - \\delta[i] p[i,t] + k[i,t]\n",
    "$$\n",
    "\n",
    "Then we can predict the value of p, based on yesterday's information from all airports.\n",
    "\n",
    "$$ \\hat{p}[i,t] = p[i,t-1] - \\delta[i] p[i,t-1] + k[i,t-1]\n",
    "$$\n",
    "\n",
    "here $k[i,t] = \\sum_j b[i,j] p[j,t] (1-p[i,t])$\n",
    "#### output:\n",
    "Mean square error |phat-p|^2 over time and airports\n",
    "$$\n",
    "\\text{output} = \\frac{ \\sum_{i} \\sum_{t} | \\hat{p}[i,t] - p[i,t] |^2  }{\\sum_{i} \\sum_{t} 1}\n",
    "$$"
   ]
  },
  {
   "cell_type": "code",
   "execution_count": 2,
   "metadata": {},
   "outputs": [],
   "source": [
    "def loss_v1( p , b , delta ):\n",
    "    # 2019-7-12  Jian Wang\n",
    "    \n",
    "    # p[i,t]\n",
    "    # b[i,j]\n",
    "    # delta[i]\n",
    "    \n",
    "    n = len( p )  # numbers of airport\n",
    "    m = len( p[0] ) # numbers of time\n",
    "    \n",
    "    if ( len(b)!= n ) or ( len(b[0])!= n ) or ( len(delta) != n):\n",
    "        print(\"ERROR, airport number not consistent\")\n",
    "        return None\n",
    "    \n",
    "    k = np.ndarray( shape=(n,m) )\n",
    "    \n",
    "    for i in range(n):\n",
    "        for t in range(m):\n",
    "            k[i,t] = sum( p[j,t] * (1-p[i,t]) * b[i,j] for j in range(n) )\n",
    "            \n",
    "    # phat[i,t+1] - p[i,t+1] \n",
    "            \n",
    "    # phat[i,t+1]  = p[i,t] - delta[i] * p[i,t] + k[i,t]\n",
    "    # t = 0,1,2,...,(m-2)\n",
    "    \n",
    "    \n",
    "    out = 0.0\n",
    "    for i in range(n):\n",
    "        for t in range(1,m):\n",
    "            phat = p[i,t-1] - delta[i] * p[i,t-1] + k[i,t-1]\n",
    "            out = out + (phat - p[i,t] )**2\n",
    "    out = out / (n*(m-1))\n",
    "    return out"
   ]
  },
  {
   "cell_type": "code",
   "execution_count": null,
   "metadata": {},
   "outputs": [],
   "source": []
  }
 ],
 "metadata": {
  "kernelspec": {
   "display_name": "Python 3",
   "language": "python",
   "name": "python3"
  },
  "language_info": {
   "codemirror_mode": {
    "name": "ipython",
    "version": 3
   },
   "file_extension": ".py",
   "mimetype": "text/x-python",
   "name": "python",
   "nbconvert_exporter": "python",
   "pygments_lexer": "ipython3",
   "version": "3.6.5"
  }
 },
 "nbformat": 4,
 "nbformat_minor": 2
}
